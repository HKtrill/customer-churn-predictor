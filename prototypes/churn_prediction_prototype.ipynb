{
  "nbformat": 4,
  "nbformat_minor": 0,
  "metadata": {
    "colab": {
      "provenance": []
    },
    "kernelspec": {
      "name": "python3",
      "display_name": "Python 3"
    },
    "language_info": {
      "name": "python"
    }
  },
  "cells": [
    {
      "cell_type": "markdown",
      "source": [
        "# Machine Learning Prototype for Customer Churn Prediction\n",
        "\n",
        "This notebook contains the initial prototype for loading, preprocessing, and modeling customer churn data from multiple datasets.  \n",
        "The goal is to establish a baseline churn prediction model and prepare for multi-dataset feature engineering.\n"
      ],
      "metadata": {
        "id": "AWwSckaHlEWG"
      }
    },
    {
      "cell_type": "markdown",
      "source": [
        "# Data Loading  \n",
        "\n",
        "We start by importing necessary libraries and loading the Telco Customer Churn dataset into a pandas DataFrame.\n",
        "We then inspect the shape, data types, and preview the first few rows to understand the data structure.\n"
      ],
      "metadata": {
        "id": "uLQ6N-5Nk4tm"
      }
    },
    {
      "cell_type": "code",
      "source": [
        "import pandas as pd\n",
        "import numpy as np\n",
        "\n",
        "# Load dataset\n",
        "file_path = '/content/sample_data/WA_Fn-UseC_-Telco-Customer-Churn.csv'\n",
        "df = pd.read_csv(file_path)\n",
        "\n",
        "# Basic info\n",
        "print(\"Data Shape:\", df.shape)\n",
        "print(\"\\nData Types:\\n\", df.dtypes)\n",
        "print(\"\\nFirst 5 rows:\\n\", df.head())\n"
      ],
      "metadata": {
        "colab": {
          "base_uri": "https://localhost:8080/"
        },
        "id": "7msAkVZ5zfln",
        "outputId": "0e0eba83-3fcf-4919-c7e5-fe70ecd8f096"
      },
      "execution_count": 10,
      "outputs": [
        {
          "output_type": "stream",
          "name": "stdout",
          "text": [
            "Data Shape: (7043, 21)\n",
            "\n",
            "Data Types:\n",
            " customerID           object\n",
            "gender               object\n",
            "SeniorCitizen         int64\n",
            "Partner              object\n",
            "Dependents           object\n",
            "tenure                int64\n",
            "PhoneService         object\n",
            "MultipleLines        object\n",
            "InternetService      object\n",
            "OnlineSecurity       object\n",
            "OnlineBackup         object\n",
            "DeviceProtection     object\n",
            "TechSupport          object\n",
            "StreamingTV          object\n",
            "StreamingMovies      object\n",
            "Contract             object\n",
            "PaperlessBilling     object\n",
            "PaymentMethod        object\n",
            "MonthlyCharges      float64\n",
            "TotalCharges         object\n",
            "Churn                object\n",
            "dtype: object\n",
            "\n",
            "First 5 rows:\n",
            "    customerID  gender  SeniorCitizen Partner Dependents  tenure PhoneService  \\\n",
            "0  7590-VHVEG  Female              0     Yes         No       1           No   \n",
            "1  5575-GNVDE    Male              0      No         No      34          Yes   \n",
            "2  3668-QPYBK    Male              0      No         No       2          Yes   \n",
            "3  7795-CFOCW    Male              0      No         No      45           No   \n",
            "4  9237-HQITU  Female              0      No         No       2          Yes   \n",
            "\n",
            "      MultipleLines InternetService OnlineSecurity  ... DeviceProtection  \\\n",
            "0  No phone service             DSL             No  ...               No   \n",
            "1                No             DSL            Yes  ...              Yes   \n",
            "2                No             DSL            Yes  ...               No   \n",
            "3  No phone service             DSL            Yes  ...              Yes   \n",
            "4                No     Fiber optic             No  ...               No   \n",
            "\n",
            "  TechSupport StreamingTV StreamingMovies        Contract PaperlessBilling  \\\n",
            "0          No          No              No  Month-to-month              Yes   \n",
            "1          No          No              No        One year               No   \n",
            "2          No          No              No  Month-to-month              Yes   \n",
            "3         Yes          No              No        One year               No   \n",
            "4          No          No              No  Month-to-month              Yes   \n",
            "\n",
            "               PaymentMethod MonthlyCharges  TotalCharges Churn  \n",
            "0           Electronic check          29.85         29.85    No  \n",
            "1               Mailed check          56.95        1889.5    No  \n",
            "2               Mailed check          53.85        108.15   Yes  \n",
            "3  Bank transfer (automatic)          42.30       1840.75    No  \n",
            "4           Electronic check          70.70        151.65   Yes  \n",
            "\n",
            "[5 rows x 21 columns]\n"
          ]
        }
      ]
    },
    {
      "cell_type": "markdown",
      "source": [
        "*The dataset contains 7043 rows and 21 columns with mixed data types including numerical and categorical features.*"
      ],
      "metadata": {
        "id": "Sjn5TsebzhLM"
      }
    },
    {
      "cell_type": "markdown",
      "source": [
        "# Missing Data and Empty String Checks\n",
        "\n",
        "Next, we check for any missing values or empty strings which could represent missing data in object-type columns."
      ],
      "metadata": {
        "id": "SuqPMy6czhq7"
      }
    },
    {
      "cell_type": "code",
      "source": [
        "# Check for missing values (NaN) in each column\n",
        "missing_summary = df.isnull().sum()\n",
        "\n",
        "# Filter to columns that have any missing values (>0)\n",
        "missing_columns = missing_summary[missing_summary > 0]\n",
        "\n",
        "if missing_columns.empty:\n",
        "    print(\"\\nMissing values per column:\\nNo missing values found in any column.\")\n",
        "else:\n",
        "    print(\"\\nMissing values per column:\\n\", missing_columns)\n",
        "\n",
        "# Check for empty strings in columns with object data type (could be missing data)\n",
        "empty_str_summary = (df.select_dtypes(include='object') == '').sum()\n",
        "\n",
        "# Filter to columns with any empty strings (>0)\n",
        "empty_string_columns = empty_str_summary[empty_str_summary > 0]\n",
        "\n",
        "if empty_string_columns.empty:\n",
        "    print(\"\\nEmpty strings per object column:\\nNo empty strings found in any object column.\")\n",
        "else:\n",
        "    print(\"\\nEmpty strings per object column:\\n\", empty_string_columns)\n",
        "\n",
        "\n"
      ],
      "metadata": {
        "colab": {
          "base_uri": "https://localhost:8080/"
        },
        "id": "i0Iatph9ziXK",
        "outputId": "55beca36-a19a-496d-e5eb-22c96a27386f"
      },
      "execution_count": 11,
      "outputs": [
        {
          "output_type": "stream",
          "name": "stdout",
          "text": [
            "\n",
            "Missing values per column:\n",
            "No missing values found in any column.\n",
            "\n",
            "Empty strings per object column:\n",
            "No empty strings found in any object column.\n"
          ]
        }
      ]
    },
    {
      "cell_type": "markdown",
      "source": [
        "*No missing values or empty strings were detected, indicating the dataset is mostly complete.*"
      ],
      "metadata": {
        "id": "_KXnGQta0L-H"
      }
    },
    {
      "cell_type": "markdown",
      "source": [
        "# Outlier Detection in Numeric Columns\n",
        "\n",
        "We identify potential outliers in numeric columns using the Interquartile Range (IQR) method, which flags values outside 1.5 times the IQR from Q1 and Q3."
      ],
      "metadata": {
        "id": "8N-WYpJ11hKp"
      }
    },
    {
      "cell_type": "code",
      "source": [
        "# Numeric columns\n",
        "numeric_cols = df.select_dtypes(include=[np.number]).columns.tolist()\n",
        "print(\"\\nNumeric columns:\", numeric_cols)\n",
        "\n",
        "def detect_outliers_iqr(data, col):\n",
        "    Q1 = data[col].quantile(0.25)\n",
        "    Q3 = data[col].quantile(0.75)\n",
        "    IQR = Q3 - Q1\n",
        "    lower_bound = Q1 - 1.5 * IQR\n",
        "    upper_bound = Q3 + 1.5 * IQR\n",
        "    outliers = data[(data[col] < lower_bound) | (data[col] > upper_bound)]\n",
        "    return outliers.shape[0]\n",
        "\n",
        "for col in numeric_cols:\n",
        "    outlier_count = detect_outliers_iqr(df, col)\n",
        "    print(f\"Outliers detected in {col}: {outlier_count}\")\n"
      ],
      "metadata": {
        "colab": {
          "base_uri": "https://localhost:8080/"
        },
        "id": "rVf2JoXn1g4w",
        "outputId": "c654201a-209e-42e0-c47e-ad28f38318f8"
      },
      "execution_count": 12,
      "outputs": [
        {
          "output_type": "stream",
          "name": "stdout",
          "text": [
            "\n",
            "Numeric columns: ['SeniorCitizen', 'tenure', 'MonthlyCharges']\n",
            "Outliers detected in SeniorCitizen: 1142\n",
            "Outliers detected in tenure: 0\n",
            "Outliers detected in MonthlyCharges: 0\n"
          ]
        }
      ]
    },
    {
      "cell_type": "markdown",
      "source": [
        "*1142 outliers were detected in the SeniorCitizen column; no outliers detected in tenure or MonthlyCharges.*"
      ],
      "metadata": {
        "id": "Jgri7lsH1hjh"
      }
    },
    {
      "cell_type": "markdown",
      "source": [
        "# Converting and Cleaning TotalCharges Column\n",
        "\n",
        "The TotalCharges column is currently an object type due to some non-numeric values. We convert it to numeric, coercing errors to NaN, then handle those missing values, accordingly."
      ],
      "metadata": {
        "id": "ba-sFjaf11lN"
      }
    },
    {
      "cell_type": "code",
      "source": [
        "# Convert TotalCharges to numeric, coercing errors to NaN\n",
        "df['TotalCharges'] = pd.to_numeric(df['TotalCharges'], errors='coerce')\n",
        "\n",
        "# Count invalid conversions to NaN\n",
        "num_invalid = df['TotalCharges'].isna().sum()\n",
        "print(f\"TotalCharges invalid/missing values after conversion: {num_invalid}\")\n",
        "\n",
        "# Drop rows with NaN in TotalCharges (few rows)\n",
        "df_clean = df.dropna(subset=['TotalCharges']).copy()\n",
        "\n",
        "# Summary statistics after cleaning\n",
        "print(df_clean['TotalCharges'].describe())\n"
      ],
      "metadata": {
        "colab": {
          "base_uri": "https://localhost:8080/"
        },
        "id": "xkTl_xS9116e",
        "outputId": "d4d4e2c8-0351-4ab2-807f-e3f275009408"
      },
      "execution_count": 13,
      "outputs": [
        {
          "output_type": "stream",
          "name": "stdout",
          "text": [
            "TotalCharges invalid/missing values after conversion: 11\n",
            "count    7032.000000\n",
            "mean     2283.300441\n",
            "std      2266.771362\n",
            "min        18.800000\n",
            "25%       401.450000\n",
            "50%      1397.475000\n",
            "75%      3794.737500\n",
            "max      8684.800000\n",
            "Name: TotalCharges, dtype: float64\n"
          ]
        }
      ]
    },
    {
      "cell_type": "markdown",
      "source": [
        "*11 rows had invalid or missing TotalCharges values and were removed for now.*"
      ],
      "metadata": {
        "id": "VaXQ-S9q12dh"
      }
    },
    {
      "cell_type": "markdown",
      "source": [
        "# Handling Remaining Missing Values\n",
        "\n",
        "To ensure a clean dataset, we fill any missing numeric values with the mean and categorical values with the mode."
      ],
      "metadata": {
        "id": "We6p4hTD2Zb9"
      }
    },
    {
      "cell_type": "code",
      "source": [
        "# Fill missing TotalCharges with mean\n",
        "mean_total_charges = df_clean['TotalCharges'].mean()\n",
        "df_clean['TotalCharges'] = df_clean['TotalCharges'].fillna(mean_total_charges)\n",
        "\n",
        "# Fill missing categorical values with mode\n",
        "cat_cols = df_clean.select_dtypes(include='object').columns.tolist()\n",
        "for col in cat_cols:\n",
        "    if df_clean[col].isnull().any():\n",
        "        mode_val = df_clean[col].mode()[0]\n",
        "        df_clean[col] = df_clean[col].fillna(mode_val)\n",
        "\n",
        "# Fill missing numeric values (excluding TotalCharges) with mean\n",
        "num_cols = df_clean.select_dtypes(include=['int64', 'float64']).columns.tolist()\n",
        "for col in num_cols:\n",
        "    if df_clean[col].isnull().any():\n",
        "        mean_val = df_clean[col].mean()\n",
        "        df_clean[col] = df_clean[col].fillna(mean_val)\n",
        "\n",
        "# Confirm no missing values remain\n",
        "final_missing = df_clean.isnull().sum()\n",
        "print(\"Final missing values count:\\n\", final_missing[final_missing > 0])\n"
      ],
      "metadata": {
        "colab": {
          "base_uri": "https://localhost:8080/"
        },
        "id": "7EBdrkOQ2fZ0",
        "outputId": "77731124-82e4-4c6f-de90-dc738f2c75ae"
      },
      "execution_count": 14,
      "outputs": [
        {
          "output_type": "stream",
          "name": "stdout",
          "text": [
            "Final missing values count:\n",
            " Series([], dtype: int64)\n"
          ]
        }
      ]
    },
    {
      "cell_type": "markdown",
      "source": [
        "# Correlation Analysis of Numeric Features\n",
        "\n",
        "This block calculates the correlation matrix for all numeric columns in the cleaned dataset.\n",
        "It visualizes the correlations using a heatmap to help identify feature pairs with strong linear relationships.\n",
        "Additionally, it lists all pairs of features with correlation magnitude above 0.7, which might indicate redundancy or opportunities for feature engineering."
      ],
      "metadata": {
        "id": "fuwdYROzk5GA"
      }
    },
    {
      "cell_type": "code",
      "source": [
        "import matplotlib.pyplot as plt\n",
        "import seaborn as sns\n",
        "\n",
        "# Compute correlation matrix for numeric columns\n",
        "numeric_cols = df_clean.select_dtypes(include=['int64', 'float64']).columns\n",
        "corr_matrix = df_clean[numeric_cols].corr()\n",
        "\n",
        "# Display correlation matrix as heatmap\n",
        "plt.figure(figsize=(8, 6))\n",
        "sns.heatmap(corr_matrix, annot=True, cmap='coolwarm', fmt=\".2f\", square=True)\n",
        "plt.title('Correlation Matrix of Numeric Features')\n",
        "plt.show()\n",
        "\n",
        "# Optionally, print pairs with high correlation (> 0.7 or < -0.7)\n",
        "threshold = 0.7\n",
        "strong_corrs = []\n",
        "\n",
        "for i in range(len(corr_matrix.columns)):\n",
        "    for j in range(i):\n",
        "        corr_value = corr_matrix.iloc[i, j]\n",
        "        if abs(corr_value) > threshold:\n",
        "            strong_corrs.append((corr_matrix.columns[i], corr_matrix.columns[j], corr_value))\n",
        "\n",
        "print(\"Strongly correlated feature pairs (>|0.7|):\")\n",
        "for feat1, feat2, corr_val in strong_corrs:\n",
        "    print(f\"{feat1} and {feat2}: correlation = {corr_val:.2f}\")\n"
      ],
      "metadata": {
        "colab": {
          "base_uri": "https://localhost:8080/",
          "height": 580
        },
        "id": "dhRtH3LD4cmd",
        "outputId": "4c9f7ebb-c414-4b9e-b432-f99d998ef598"
      },
      "execution_count": 17,
      "outputs": [
        {
          "output_type": "display_data",
          "data": {
            "text/plain": [
              "<Figure size 800x600 with 2 Axes>"
            ],
            "image/png": "[encoded data removed]"
          },
          "metadata": {}
        },
        {
          "output_type": "stream",
          "name": "stdout",
          "text": [
            "Strongly correlated feature pairs (>|0.7|):\n",
            "TotalCharges and tenure: correlation = 0.83\n"
          ]
        }
      ]
    },
    {
      "cell_type": "markdown",
      "source": [
        "*The correlation matrix shows tenure and TotalCharges are strongly positively correlated (0.83), and MonthlyCharges and TotalCharges have a moderate positive correlation (0.65). SeniorCitizen has weak correlations with all other features. These insights suggest tenure and TotalCharges may provide overlapping information, so feature engineering or dimensionality reduction could improve model performance.*"
      ],
      "metadata": {
        "id": "rqRxm8Pyk6qZ"
      }
    },
    {
      "cell_type": "markdown",
      "source": [],
      "metadata": {
        "id": "iJ7Do4Gfk8Fy"
      }
    },
    {
      "cell_type": "code",
      "source": [],
      "metadata": {
        "id": "PhfbMK1Sk6_w"
      },
      "execution_count": null,
      "outputs": []
    },
    {
      "cell_type": "markdown",
      "source": [],
      "metadata": {
        "id": "gzlDsBmEk_2m"
      }
    },
    {
      "cell_type": "code",
      "source": [],
      "metadata": {
        "id": "9xm5vtd3k8u9"
      },
      "execution_count": null,
      "outputs": []
    },
    {
      "cell_type": "markdown",
      "source": [],
      "metadata": {
        "id": "UQG8q9xlk73j"
      }
    },
    {
      "cell_type": "markdown",
      "source": [],
      "metadata": {
        "id": "IC_EavYKlBKf"
      }
    },
    {
      "cell_type": "code",
      "source": [],
      "metadata": {
        "id": "xuncsoJ9lBeW"
      },
      "execution_count": null,
      "outputs": []
    },
    {
      "cell_type": "markdown",
      "source": [],
      "metadata": {
        "id": "-92bU4CglCT8"
      }
    },
    {
      "cell_type": "markdown",
      "source": [],
      "metadata": {
        "id": "PrqZE7FMlCpV"
      }
    },
    {
      "cell_type": "code",
      "source": [],
      "metadata": {
        "id": "fwttdGqNlC3O"
      },
      "execution_count": null,
      "outputs": []
    }
  ]
}